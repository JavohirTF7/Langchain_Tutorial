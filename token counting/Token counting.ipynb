{
 "cells": [
  {
   "cell_type": "code",
   "execution_count": null,
   "id": "089e83a1-87ed-4ea8-a382-99c47ed61575",
   "metadata": {},
   "outputs": [
    {
     "name": "stderr",
     "output_type": "stream",
     "text": [
      "/home/jupyter-javohir2023/.local/lib/python3.9/site-packages/deeplake/util/check_latest_version.py:32: UserWarning: A newer version of deeplake (3.6.22) is available. It's recommended that you update to the latest version using `pip install -U deeplake`.\n",
      "  warnings.warn(\n"
     ]
    }
   ],
   "source": [
    "from langchain.llms import OpenAI\n",
    "from langchain.callbacks import get_openai_callback"
   ]
  },
  {
   "cell_type": "markdown",
   "id": "70ee44e1-b78d-4825-b69c-2ade23633e31",
   "metadata": {},
   "source": [
    "# Model "
   ]
  },
  {
   "cell_type": "code",
   "execution_count": 127,
   "id": "04a9b275-5d71-4c78-a7b2-bd2f3ce65834",
   "metadata": {},
   "outputs": [],
   "source": [
    "import os\n",
    "os.environ['OPENAI_API_KEY'] ='Open_api key'"
   ]
  },
  {
   "cell_type": "code",
   "execution_count": 114,
   "id": "f41ef5d2-0ddf-44ea-8e0e-37685169e3ed",
   "metadata": {},
   "outputs": [
    {
     "data": {
      "text/plain": [
       "OpenAIChat(cache=None, verbose=False, callbacks=None, callback_manager=None, tags=None, metadata=None, client=<class 'openai.api_resources.chat_completion.ChatCompletion'>, model_name='gpt-3.5-turbo', model_kwargs={}, openai_api_key=None, openai_api_base=None, openai_proxy=None, max_retries=6, prefix_messages=[], streaming=False, allowed_special=set(), disallowed_special='all')"
      ]
     },
     "execution_count": 114,
     "metadata": {},
     "output_type": "execute_result"
    }
   ],
   "source": [
    "llm = OpenAI(model_name=\"gpt-3.5-turbo\")\n",
    "llm"
   ]
  },
  {
   "cell_type": "markdown",
   "id": "e5e91234-4f2e-468f-8675-9768b6115350",
   "metadata": {},
   "source": [
    "# Input and Output token's price"
   ]
  },
  {
   "cell_type": "code",
   "execution_count": 117,
   "id": "45e1ba1b-442e-4a7e-9896-4832d2705528",
   "metadata": {},
   "outputs": [
    {
     "name": "stdout",
     "output_type": "stream",
     "text": [
      "Tokens Used: 448\n",
      "\tPrompt Tokens: 15\n",
      "\tCompletion Tokens: 433\n",
      "Successful Requests: 1\n",
      "Total Cost (USD): $0.0008885\n"
     ]
    }
   ],
   "source": [
    "with get_openai_callback() as cb:\n",
    "    result = llm(\"suniy intellekt nima\")\n",
    "    print(cb)"
   ]
  },
  {
   "cell_type": "code",
   "execution_count": 118,
   "id": "cdd332ac-0c26-4b01-9f34-45dd7452e362",
   "metadata": {},
   "outputs": [
    {
     "data": {
      "text/plain": [
       "'Suniy intellekt masofaviy hisoblanadi va umuman tarjimalanishi \"quyidagi g\\'oya-yo\\'riqni amalga oshirish uchun avtomatik qo\\'llaniladigan kompyuter tizimi\" deb tarjima qilinadi. Bu tizimlar, insonlardan farqli ravishda fikrlash, haddan tashqari ehtiyojlar bilan ma\\'lumotlarni boshqarish va saranjam qilish qobilyatiga ega bo\\'lgan kompyuterlardir. Suniy intellektni o\\'rganishga asosiy bo\\'lgan mashhur algoritmlar, ma\\'lumotlar tahlili, yuqori darajada avtomatlashtirilgan yozuv tushunchalari va mantiqiy soniy tahlillar mumkin. Suniy intellekt, yaratilgan vazifalarni tez va yuqori sifatli bajarish, yuqori darajada avtomatik tarzda yaratilgan narsalarni bir-birini o\\'rganish yozmak va ma\\'lumotlarni muntazam ravishda ajratish va tahlil qilish imkoniyatlariga ega bo\\'lishi bilan ajralib turadi. Bu esa uning o\\'zidan qo\\'shimcha bir energiya, qo\\'shimcha manba va yukseklik talab qilmaydi. Suniy intellekt shunu unutmangki, bu so\\'z birning ilmiy merosiyaning, adiblar va ijodkorlar dunyosidagi o\\'qishlar va qarashlarning yorqinligi natijasida paydo bo\\'lgani emas.'"
      ]
     },
     "execution_count": 118,
     "metadata": {},
     "output_type": "execute_result"
    }
   ],
   "source": [
    "result"
   ]
  },
  {
   "cell_type": "markdown",
   "id": "cd34d229-8516-4946-a07f-88754483dc1c",
   "metadata": {},
   "source": [
    "# tiktoken"
   ]
  },
  {
   "cell_type": "code",
   "execution_count": 17,
   "id": "2176c200-3876-4312-be57-108d80b0053a",
   "metadata": {},
   "outputs": [
    {
     "data": {
      "text/plain": [
       "<Encoding 'cl100k_base'>"
      ]
     },
     "execution_count": 17,
     "metadata": {},
     "output_type": "execute_result"
    }
   ],
   "source": [
    "import tiktoken\n",
    "encoding=tiktoken.encoding_for_model('gpt-3.5-turbo')\n",
    "encoding"
   ]
  },
  {
   "cell_type": "code",
   "execution_count": 81,
   "id": "859b5cc0-9c4b-409d-b860-1b46aa844c95",
   "metadata": {},
   "outputs": [
    {
     "data": {
      "text/plain": [
       "[82, 16080, 88, 528, 6853, 5964, 308, 7675]"
      ]
     },
     "execution_count": 81,
     "metadata": {},
     "output_type": "execute_result"
    }
   ],
   "source": [
    "token_id=encoding.encode(\"suniy intellekt nima\")\n",
    "token_id"
   ]
  },
  {
   "cell_type": "code",
   "execution_count": 82,
   "id": "eff5263d-2bdc-4a97-87c3-d2dda6b19c47",
   "metadata": {},
   "outputs": [
    {
     "data": {
      "text/plain": [
       "8"
      ]
     },
     "execution_count": 82,
     "metadata": {},
     "output_type": "execute_result"
    }
   ],
   "source": [
    "len(token_id)"
   ]
  },
  {
   "cell_type": "code",
   "execution_count": 36,
   "id": "63f0ac4d-9538-430f-a4c2-2467ddf97b8e",
   "metadata": {},
   "outputs": [
    {
     "data": {
      "text/plain": [
       "<Encoding 'cl100k_base'>"
      ]
     },
     "execution_count": 36,
     "metadata": {},
     "output_type": "execute_result"
    }
   ],
   "source": [
    "encoding_name=tiktoken.get_encoding(\"cl100k_base\")\n",
    "encoding"
   ]
  },
  {
   "cell_type": "code",
   "execution_count": 28,
   "id": "757937c7-9572-4dce-9653-a7b60082aeca",
   "metadata": {},
   "outputs": [
    {
     "data": {
      "text/plain": [
       "<Encoding 'cl100k_base'>"
      ]
     },
     "execution_count": 28,
     "metadata": {},
     "output_type": "execute_result"
    }
   ],
   "source": [
    "encoding=tiktoken.encoding_for_model(\"gpt-3.5-turbo\")\n",
    "encoding"
   ]
  },
  {
   "cell_type": "markdown",
   "id": "00cd3880-fe25-46c7-bffd-15b2221edd0d",
   "metadata": {},
   "source": [
    "# dividing into tokens and determining the number"
   ]
  },
  {
   "cell_type": "code",
   "execution_count": 93,
   "id": "f95d39ae-bc3e-43f4-bf76-8d6fe51052bb",
   "metadata": {},
   "outputs": [],
   "source": [
    "def num_tokens_from_string(string: str):\n",
    "    encoding = tiktoken.get_encoding(\"cl100k_base\")\n",
    "    tokens = encoding.encode(string)\n",
    "    num_tokens = len(tokens)\n",
    "    decoded_tokens = [encoding.decode_single_token_bytes(token) for token in tokens]\n",
    "    \n",
    "    converted_list = [token.decode('utf-8') if isinstance(token, bytes) else token for token in decoded_tokens]\n",
    "    converted_tuple = (num_tokens, converted_list)\n",
    "    return converted_tuple\n"
   ]
  },
  {
   "cell_type": "markdown",
   "id": "90ce6153-5a8c-4f2f-831b-65b23f3d01f1",
   "metadata": {},
   "source": [
    "# uzbek"
   ]
  },
  {
   "cell_type": "code",
   "execution_count": 125,
   "id": "b6566b35-a9ce-4a97-87a7-c299ca272ed5",
   "metadata": {},
   "outputs": [
    {
     "data": {
      "text/plain": [
       "(161,\n",
       " ['[',\n",
       "  'Doc',\n",
       "  'umen',\n",
       "  'adi',\n",
       "  ' elek',\n",
       "  'tr',\n",
       "  ' kv',\n",
       "  'adr',\n",
       "  'up',\n",
       "  'ol',\n",
       "  ' va',\n",
       "  ' magn',\n",
       "  'it',\n",
       "  ' dip',\n",
       "  'ol',\n",
       "  ' moment',\n",
       "  'l',\n",
       "  'ari',\n",
       "  ' .',\n",
       "  ' My',\n",
       "  'ous',\n",
       "  'b',\n",
       "  'auer',\n",
       "  ' spe',\n",
       "  'k',\n",
       "  'tr',\n",
       "  '-\\n\\n',\n",
       "  'lar',\n",
       "  'ida',\n",
       "  ' iz',\n",
       "  'omer',\n",
       "  'l',\n",
       "  'arning',\n",
       "  ' sil',\n",
       "  'j',\n",
       "  'ishi',\n",
       "  ' ham',\n",
       "  ',',\n",
       "  ' str',\n",
       "  'ukt',\n",
       "  'uran',\n",
       "  'ing',\n",
       "  ' o',\n",
       "  '’t',\n",
       "  'a',\n",
       "  ' no',\n",
       "  'zik',\n",
       "  ' bo',\n",
       "  '’',\n",
       "  'lin',\n",
       "  'ishi',\n",
       "  ' ham',\n",
       "  '\\n\\n',\n",
       "  'os',\n",
       "  'on',\n",
       "  'lik',\n",
       "  ' bil',\n",
       "  'an',\n",
       "  ' hal',\n",
       "  ' q',\n",
       "  'il',\n",
       "  'in',\n",
       "  'adi',\n",
       "  '.',\n",
       "  ' My',\n",
       "  'ous',\n",
       "  'b',\n",
       "  'auer',\n",
       "  ' rez',\n",
       "  'on',\n",
       "  'ans',\n",
       "  'ining',\n",
       "  ' energ',\n",
       "  'iya',\n",
       "  ' k',\n",
       "  'eng',\n",
       "  'lig',\n",
       "  'i',\n",
       "  '\\n\\n',\n",
       "  'gamma',\n",
       "  '-n',\n",
       "  'url',\n",
       "  'ari',\n",
       "  ' emiss',\n",
       "  'iy',\n",
       "  'asi',\n",
       "  ' va',\n",
       "  ' y',\n",
       "  'util',\n",
       "  'ish',\n",
       "  ' jar',\n",
       "  'ay',\n",
       "  'on',\n",
       "  'ida',\n",
       "  ' is',\n",
       "  'ht',\n",
       "  'iro',\n",
       "  'k',\n",
       "  ' et',\n",
       "  'ad',\n",
       "  'igan',\n",
       "  ' q',\n",
       "  'o',\n",
       "  '’',\n",
       "  'z',\n",
       "  'g',\n",
       "  '’',\n",
       "  'at',\n",
       "  'il',\n",
       "  'gan',\n",
       "  '\\n\\n',\n",
       "  'hol',\n",
       "  'at',\n",
       "  'ning',\n",
       "  ' k',\n",
       "  'eng',\n",
       "  'lig',\n",
       "  'ini',\n",
       "  ' to',\n",
       "  '’',\n",
       "  'g',\n",
       "  '’',\n",
       "  'rid',\n",
       "  'an',\n",
       "  '-to',\n",
       "  '’',\n",
       "  'g',\n",
       "  '’',\n",
       "  'ri',\n",
       "  ' o',\n",
       "  '’',\n",
       "  'l',\n",
       "  'ch',\n",
       "  'ash',\n",
       "  'ni',\n",
       "  ' ta',\n",
       "  '’',\n",
       "  'min',\n",
       "  'lay',\n",
       "  'di',\n",
       "  ' .',\n",
       "  ' K',\n",
       "  'eng',\n",
       "  'lik',\n",
       "  'dan',\n",
       "  \"',\",\n",
       "  ' metadata',\n",
       "  \"={'\",\n",
       "  'source',\n",
       "  \"':\",\n",
       "  \" '\",\n",
       "  'my',\n",
       "  'ous',\n",
       "  'b',\n",
       "  'auer',\n",
       "  ' eff',\n",
       "  'ek',\n",
       "  'ti',\n",
       "  '.pdf',\n",
       "  \"'})\",\n",
       "  ']'])"
      ]
     },
     "execution_count": 125,
     "metadata": {},
     "output_type": "execute_result"
    }
   ],
   "source": [
    "num_tokens_from_string(\"\"\"[Documenadi elektr kvadrupol va magnit dipol momentlari . Myousbauer spektr-\\n\\nlarida izomerlarning siljishi ham, strukturaning o’ta nozik bo’linishi ham\\n\\nosonlik bilan hal qilinadi. Myousbauer rezonansining energiya kengligi\\n\\ngamma-nurlari emissiyasi va yutilish jarayonida ishtirok etadigan qo’zg’atilgan\\n\\nholatning kengligini to’g’ridan-to’g’ri o’lchashni ta’minlaydi . Kenglikdan', metadata={'source': 'myousbauer effekti.pdf'})]\"\"\")"
   ]
  },
  {
   "cell_type": "markdown",
   "id": "7ce53c4b-9bc8-4318-bf88-8f6f76e97b22",
   "metadata": {},
   "source": [
    "# English"
   ]
  },
  {
   "cell_type": "code",
   "execution_count": 128,
   "id": "75ff63c8-c307-49dd-b169-315f1a182c57",
   "metadata": {},
   "outputs": [
    {
     "data": {
      "text/plain": [
       "(77,\n",
       " ['According',\n",
       "  ' to',\n",
       "  ' the',\n",
       "  ' later',\n",
       "  ' decision',\n",
       "  ',',\n",
       "  ' admission',\n",
       "  ' to',\n",
       "  ' undergraduate',\n",
       "  ' and',\n",
       "  ' graduate',\n",
       "  ' programs',\n",
       "  ' of',\n",
       "  ' state',\n",
       "  ',',\n",
       "  ' non',\n",
       "  '-state',\n",
       "  ' and',\n",
       "  ' foreign',\n",
       "  ' higher',\n",
       "  ' education',\n",
       "  ' organizations',\n",
       "  ' operating',\n",
       "  ' in',\n",
       "  ' the',\n",
       "  ' republic',\n",
       "  ' and',\n",
       "  ' their',\n",
       "  ' branches',\n",
       "  ' will',\n",
       "  ' be',\n",
       "  ' carried',\n",
       "  ' out',\n",
       "  ' once',\n",
       "  ' per',\n",
       "  ' academic',\n",
       "  ' year',\n",
       "  ' (',\n",
       "  'between',\n",
       "  ' June',\n",
       "  ' and',\n",
       "  ' September',\n",
       "  ').',\n",
       "  ' It',\n",
       "  ' is',\n",
       "  ' stated',\n",
       "  ' that',\n",
       "  ',',\n",
       "  ' in',\n",
       "  ' necessary',\n",
       "  ' cases',\n",
       "  ',',\n",
       "  ' admission',\n",
       "  ' to',\n",
       "  ' the',\n",
       "  ' master',\n",
       "  \"'s\",\n",
       "  ' degree',\n",
       "  ' programs',\n",
       "  ' of',\n",
       "  ' higher',\n",
       "  ' it',\n",
       "  ' based',\n",
       "  ' on',\n",
       "  ' the',\n",
       "  ' proposal',\n",
       "  ' of',\n",
       "  ' the',\n",
       "  ' Ministry',\n",
       "  ' of',\n",
       "  ' Higher',\n",
       "  ' Education',\n",
       "  ',',\n",
       "  ' Science',\n",
       "  ' and',\n",
       "  ' Innovation',\n",
       "  '.'])"
      ]
     },
     "execution_count": 128,
     "metadata": {},
     "output_type": "execute_result"
    }
   ],
   "source": [
    "num_tokens_from_string(\"According to the later decision, admission to undergraduate and graduate programs of state, non-state and foreign higher education organizations operating in the republic and their branches will be carried out once per academic year (between June and September). It is stated that, in necessary cases, admission to the master's degree programs of higher it based on the proposal of the Ministry of Higher Education, Science and Innovation.\")"
   ]
  },
  {
   "cell_type": "markdown",
   "id": "2e52feac-6b90-4491-a024-36a18c6aac2c",
   "metadata": {},
   "source": [
    "# Russian"
   ]
  },
  {
   "cell_type": "code",
   "execution_count": null,
   "id": "dec3a5a8-fc41-4848-b1c1-0868184ff10e",
   "metadata": {},
   "outputs": [],
   "source": [
    "num_tokens_from_string(\" организаций высшего образования и их филиалов будет осуществляться один раз в учебный год (с июня по сентябрь). Указано, что в необходимых случаях прием в магистратуру высших учебных заведений второй науки и инноваций.\")"
   ]
  },
  {
   "cell_type": "markdown",
   "id": "553bc97b-4b25-4142-8b5e-494de604fb42",
   "metadata": {},
   "source": [
    "# number of characters"
   ]
  },
  {
   "cell_type": "code",
   "execution_count": 123,
   "id": "ce8ace32-5b11-41b2-89d4-bbd9e85d9f62",
   "metadata": {},
   "outputs": [
    {
     "name": "stdout",
     "output_type": "stream",
     "text": [
      "Karakterlar soni: 18\n"
     ]
    }
   ],
   "source": [
    "text = \"Bu bir matn misoli\"\n",
    "\n",
    "character_count = len(text)\n",
    "\n",
    "print(\"Karakterlar soni:\", character_count)"
   ]
  },
  {
   "cell_type": "markdown",
   "id": "82258dfd-c7df-4929-83c0-12e06fcc2fb5",
   "metadata": {},
   "source": [
    "# number of words"
   ]
  },
  {
   "cell_type": "code",
   "execution_count": 124,
   "id": "e6612def-1040-4b85-b5aa-5c2d7cf0624c",
   "metadata": {},
   "outputs": [
    {
     "name": "stdout",
     "output_type": "stream",
     "text": [
      "So'zlar soni: 4\n"
     ]
    }
   ],
   "source": [
    "import re\n",
    "\n",
    "text = \"Bu bir matn misoli\"\n",
    "\n",
    "word_list = re.findall(r'\\b\\w+\\b', text)\n",
    "word_count = len(word_list)\n",
    "\n",
    "print(\"So'zlar soni:\", word_count)"
   ]
  },
  {
   "cell_type": "code",
   "execution_count": null,
   "id": "727d1b0e-d73c-4764-8ef4-32873952fd13",
   "metadata": {},
   "outputs": [],
   "source": []
  }
 ],
 "metadata": {
  "kernelspec": {
   "display_name": "Python 3 (ipykernel)",
   "language": "python",
   "name": "python3"
  },
  "language_info": {
   "codemirror_mode": {
    "name": "ipython",
    "version": 3
   },
   "file_extension": ".py",
   "mimetype": "text/x-python",
   "name": "python",
   "nbconvert_exporter": "python",
   "pygments_lexer": "ipython3",
   "version": "3.9.15"
  }
 },
 "nbformat": 4,
 "nbformat_minor": 5
}
